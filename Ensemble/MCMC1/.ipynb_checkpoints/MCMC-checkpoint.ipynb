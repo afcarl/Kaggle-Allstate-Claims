{
 "cells": [
  {
   "cell_type": "code",
   "execution_count": 1,
   "metadata": {
    "collapsed": false
   },
   "outputs": [
    {
     "name": "stderr",
     "output_type": "stream",
     "text": [
      "Using gpu device 0: GeForce 940MX (CNMeM is disabled, cuDNN 5105)\n",
      "/home/him/anaconda2/envs/theano-gpu/lib/python2.7/site-packages/theano/sandbox/cuda/__init__.py:600: UserWarning: Your cuDNN version is more recent than the one Theano officially supports. If you see any problems, try updating Theano or downgrading cuDNN to version 5.\n",
      "  warnings.warn(warn)\n"
     ]
    }
   ],
   "source": [
    "import numpy as np\n",
    "from pymc3 import *\n",
    "from sklearn.metrics import mean_absolute_error\n",
    "import matplotlib.pyplot as plt\n",
    "from sklearn.linear_model import LinearRegression\n",
    "%matplotlib inline"
   ]
  },
  {
   "cell_type": "code",
   "execution_count": 1,
   "metadata": {
    "collapsed": false
   },
   "outputs": [
    {
     "data": {
      "text/plain": [
       "numpy.ndarray"
      ]
     },
     "execution_count": 1,
     "metadata": {},
     "output_type": "execute_result"
    }
   ],
   "source": [
    "import pandas as pd\n",
    "true = pd.read_csv('../../train.csv')\n",
    "true = true['loss'].as_matrix()\n",
    "type(true)"
   ]
  },
  {
   "cell_type": "code",
   "execution_count": 2,
   "metadata": {
    "collapsed": false
   },
   "outputs": [
    {
     "name": "stderr",
     "output_type": "stream",
     "text": [
      "/home/him/anaconda2/envs/theano-gpu/lib/python2.7/site-packages/ipykernel/__main__.py:2: FutureWarning: sort(columns=....) is deprecated, use sort_values(by=.....)\n",
      "  from ipykernel import kernelapp as app\n",
      "/home/him/anaconda2/envs/theano-gpu/lib/python2.7/site-packages/ipykernel/__main__.py:4: FutureWarning: sort(columns=....) is deprecated, use sort_values(by=.....)\n"
     ]
    }
   ],
   "source": [
    "tt = pd.read_csv('keras-train-1111.7.csv')\n",
    "tt = tt.sort('id')\n",
    "tt1 = pd.read_csv('keras-train-single.csv')\n",
    "tt1 = tt1.sort('id')"
   ]
  },
  {
   "cell_type": "code",
   "execution_count": 3,
   "metadata": {
    "collapsed": true
   },
   "outputs": [],
   "source": [
    "m1 = pd.read_csv('xgb-train-1124.75.csv')['loss'].as_matrix()\n",
    "m2 = pd.read_csv('xgb-train-1127.27.csv')['loss'].as_matrix()\n",
    "m3 = pd.read_csv('xgb-train-single.csv')['loss'].as_matrix()\n",
    "k1 = tt['loss'].as_matrix()\n",
    "k2 = tt1['loss'].as_matrix()"
   ]
  },
  {
   "cell_type": "code",
   "execution_count": 6,
   "metadata": {
    "collapsed": false
   },
   "outputs": [
    {
     "name": "stdout",
     "output_type": "stream",
     "text": [
      "1124.75950017\n",
      "1127.27187837\n",
      "994.822440655\n",
      "1130.58667325\n",
      "1086.72308662\n"
     ]
    }
   ],
   "source": [
    "print mean_absolute_error(true,m1)\n",
    "print mean_absolute_error(true,m2)\n",
    "print mean_absolute_error(true,m3)\n",
    "print mean_absolute_error(true,k1)\n",
    "print mean_absolute_error(true,k2)"
   ]
  },
  {
   "cell_type": "code",
   "execution_count": 7,
   "metadata": {
    "collapsed": false
   },
   "outputs": [
    {
     "name": "stdout",
     "output_type": "stream",
     "text": [
      "1082.21923887\n"
     ]
    }
   ],
   "source": [
    "print mean_absolute_error(true,m1*0.2+m2*0.2+m3*0.2+k1*0.2+k2*0.2)"
   ]
  },
  {
   "cell_type": "code",
   "execution_count": 5,
   "metadata": {
    "collapsed": true
   },
   "outputs": [],
   "source": [
    "x_train = np.vstack((m1,m2,k1,k2)).T\n",
    "y = true"
   ]
  },
  {
   "cell_type": "code",
   "execution_count": 32,
   "metadata": {
    "collapsed": false
   },
   "outputs": [
    {
     "name": "stdout",
     "output_type": "stream",
     "text": [
      "[ 0.36617454  0.19348899 -0.87699869  1.33649255]\n",
      "1080.22538261\n"
     ]
    }
   ],
   "source": [
    "clfLR = LinearRegression(fit_intercept=False)\n",
    "clfLR.fit(x_train,y)\n",
    "print clfLR.coef_\n",
    "print mean_absolute_error(true,clfLR.predict(x_train))"
   ]
  },
  {
   "cell_type": "code",
   "execution_count": 33,
   "metadata": {
    "collapsed": false
   },
   "outputs": [
    {
     "name": "stdout",
     "output_type": "stream",
     "text": [
      "1046.48939842\n"
     ]
    }
   ],
   "source": [
    "from sklearn.ensemble import GradientBoostingRegressor\n",
    "clfGB = GradientBoostingRegressor(max_depth=6,loss='lad')\n",
    "clfGB.fit(x_train,y)\n",
    "print mean_absolute_error(true,clfGB.predict(x_train))"
   ]
  },
  {
   "cell_type": "code",
   "execution_count": 34,
   "metadata": {
    "collapsed": false
   },
   "outputs": [
    {
     "name": "stdout",
     "output_type": "stream",
     "text": [
      "0.0\n",
      "[ 0.39394955  0.16943322 -0.87934257  1.33523716]\n",
      "1080.27207415\n"
     ]
    }
   ],
   "source": [
    "from sklearn.linear_model import Lasso\n",
    "clfLasso = Lasso(fit_intercept=False)\n",
    "clfLasso.fit(x_train,y)\n",
    "print clfLasso.intercept_\n",
    "print clfLasso.coef_\n",
    "print mean_absolute_error(true,clfLasso.predict(x_train))"
   ]
  },
  {
   "cell_type": "code",
   "execution_count": 35,
   "metadata": {
    "collapsed": false
   },
   "outputs": [
    {
     "name": "stdout",
     "output_type": "stream",
     "text": [
      "0  Fold error :  1084.46209824\n",
      "[ 0.4036876   0.15360579 -0.85427725  1.31693777]\n",
      "1  Fold error :  1075.46860867\n",
      "[ 0.38854561  0.17152682 -0.87071558  1.33193183]\n",
      "2  Fold error :  1087.01512115\n",
      "[ 0.43010924  0.12566569 -0.84776254  1.31243812]\n",
      "3  Fold error :  1065.99286307\n",
      "[ 0.41651435  0.1545604  -0.92665213  1.37252605]\n",
      "4  Fold error :  1087.48101642\n",
      "[ 0.38392183  0.17383584 -0.83792276  1.30079575]\n",
      "5  Fold error :  1087.49019063\n",
      "[ 0.39834044  0.17480906 -0.89383881  1.33964118]\n",
      "6  Fold error :  1088.57189793\n",
      "[ 0.38698428  0.17784164 -0.89882485  1.35121796]\n",
      "7  Fold error :  1080.79820647\n",
      "[ 0.40123842  0.17168084 -0.89337098  1.33970808]\n",
      "8  Fold error :  1072.36562013\n",
      "[ 0.37798497  0.18882596 -0.90423242  1.3556993 ]\n",
      "9  Fold error :  1073.69480452\n",
      "[ 0.35275823  0.20210179 -0.87111762  1.33577597]\n",
      "Average MAE:  1080.33404272\n"
     ]
    }
   ],
   "source": [
    "from sklearn.cross_validation import KFold\n",
    "tot = 0\n",
    "nfolds = 10\n",
    "kf = KFold(x_train.shape[0],n_folds=nfolds)\n",
    "for i, (train_index, test_index) in enumerate(kf):\n",
    "    train_x,val_x = x_train[train_index], x_train[test_index]\n",
    "    train_y,val_y = y[train_index], y[test_index]\n",
    "    clfLasso = Lasso(fit_intercept=False,positive=False)\n",
    "    clfLasso.fit(train_x,train_y)\n",
    "    temp = mean_absolute_error(val_y,clfLasso.predict(val_x))\n",
    "    print i,\" Fold error : \",temp\n",
    "    print clfLasso.coef_\n",
    "    tot += temp\n",
    "    \n",
    "tot /= nfolds * 1.0   \n",
    "print 'Average MAE: ',tot"
   ]
  },
  {
   "cell_type": "code",
   "execution_count": 8,
   "metadata": {
    "collapsed": false
   },
   "outputs": [
    {
     "name": "stderr",
     "output_type": "stream",
     "text": [
      "/home/him/anaconda2/envs/theano-gpu/lib/python2.7/site-packages/ipykernel/__main__.py:2: FutureWarning: sort(columns=....) is deprecated, use sort_values(by=.....)\n",
      "  from ipykernel import kernelapp as app\n",
      "/home/him/anaconda2/envs/theano-gpu/lib/python2.7/site-packages/ipykernel/__main__.py:4: FutureWarning: sort(columns=....) is deprecated, use sort_values(by=.....)\n"
     ]
    }
   ],
   "source": [
    "tt = pd.read_csv('keras-test-1111.7.csv')\n",
    "tt = tt.sort('id')\n",
    "tt1 = pd.read_csv('keras-test-single.csv')\n",
    "tt1 = tt1.sort('id')\n",
    "m1 = pd.read_csv('xgb-test-1124.75.csv')['loss'].as_matrix()\n",
    "m2 = pd.read_csv('xgb-test-1127.27.csv')['loss'].as_matrix()\n",
    "m3 = pd.read_csv('xgb-test-single.csv')['loss'].as_matrix()\n",
    "k1 = tt['loss'].as_matrix()\n",
    "k2 = tt1['loss'].as_matrix()"
   ]
  },
  {
   "cell_type": "code",
   "execution_count": 9,
   "metadata": {
    "collapsed": true
   },
   "outputs": [],
   "source": [
    "x_test = np.vstack((m1,m2,k1,k2)).T"
   ]
  },
  {
   "cell_type": "code",
   "execution_count": 39,
   "metadata": {
    "collapsed": true
   },
   "outputs": [],
   "source": [
    "pred = clfLasso.predict(x_test)"
   ]
  },
  {
   "cell_type": "code",
   "execution_count": 40,
   "metadata": {
    "collapsed": true
   },
   "outputs": [],
   "source": [
    "sub = pd.read_csv('xgb-test-1124.75.csv')\n",
    "sub['loss'] = pred\n",
    "sub.to_csv('Lasso-Stacking-4 way.csv',index=False)"
   ]
  },
  {
   "cell_type": "code",
   "execution_count": 13,
   "metadata": {
    "collapsed": false
   },
   "outputs": [],
   "source": [
    "import numpy as np\n",
    "np.random.seed(123)\n",
    "\n",
    "import pandas as pd\n",
    "import subprocess\n",
    "from datetime import datetime\n",
    "from scipy.sparse import csr_matrix, hstack\n",
    "from sklearn.metrics import mean_absolute_error\n",
    "from sklearn.preprocessing import StandardScaler\n",
    "from sklearn.cross_validation import KFold\n",
    "from keras.models import Sequential\n",
    "from keras.layers import Dense, Dropout, Activation\n",
    "from keras.layers.normalization import BatchNormalization\n",
    "from keras.layers.advanced_activations import PReLU\n",
    "from keras.callbacks import CSVLogger,EarlyStopping, ModelCheckpoint\n",
    "\n",
    "def nn_model():\n",
    "    model = Sequential()\n",
    "    \n",
    "    model.add(Dense(4, input_dim = 4))\n",
    "    model.add(PReLU())\n",
    "    model.add(BatchNormalization())\n",
    "        \n",
    "    model.add(Dense(4, init = 'he_normal'))\n",
    "    model.add(PReLU())\n",
    "    model.add(BatchNormalization())    \n",
    "    \n",
    "    model.add(Dense(4, init = 'he_normal'))\n",
    "    model.add(PReLU())\n",
    "    model.add(BatchNormalization())    \n",
    "    \n",
    "    model.add(Dense(1, init = 'he_normal'))\n",
    "    model.compile(loss = 'mae', optimizer = 'adam')\n",
    "    return(model)"
   ]
  },
  {
   "cell_type": "code",
   "execution_count": null,
   "metadata": {
    "collapsed": false,
    "scrolled": false
   },
   "outputs": [
    {
     "name": "stdout",
     "output_type": "stream",
     "text": [
      "Epoch 1/10\n",
      "188318/188318 [==============================] - 41s - loss: 2937.7437    \n",
      "Epoch 2/10\n",
      "188318/188318 [==============================] - 41s - loss: 2504.4599    \n",
      "Epoch 3/10\n",
      "188318/188318 [==============================] - 41s - loss: 1871.2602    \n",
      "Epoch 4/10\n",
      "188318/188318 [==============================] - 42s - loss: 1350.4602    \n",
      "Epoch 5/10\n",
      "188318/188318 [==============================] - 43s - loss: 1170.7657    \n",
      "Epoch 6/10\n",
      "188318/188318 [==============================] - 43s - loss: 1144.2980    \n",
      "Epoch 7/10\n",
      "188318/188318 [==============================] - 43s - loss: 1141.5633    \n",
      "Epoch 8/10\n",
      "188318/188318 [==============================] - 44s - loss: 1141.1233    \n",
      "Epoch 9/10\n",
      "131072/188318 [===================>..........] - ETA: 13s - loss: 1139.0934"
     ]
    }
   ],
   "source": [
    "model = nn_model()\n",
    "model.fit(x_train,y,nb_epoch=10)"
   ]
  },
  {
   "cell_type": "code",
   "execution_count": null,
   "metadata": {
    "collapsed": true
   },
   "outputs": [],
   "source": []
  }
 ],
 "metadata": {
  "anaconda-cloud": {},
  "kernelspec": {
   "display_name": "Python [conda env:theano-gpu]",
   "language": "python",
   "name": "conda-env-theano-gpu-py"
  },
  "language_info": {
   "codemirror_mode": {
    "name": "ipython",
    "version": 2
   },
   "file_extension": ".py",
   "mimetype": "text/x-python",
   "name": "python",
   "nbconvert_exporter": "python",
   "pygments_lexer": "ipython2",
   "version": "2.7.12"
  }
 },
 "nbformat": 4,
 "nbformat_minor": 1
}
