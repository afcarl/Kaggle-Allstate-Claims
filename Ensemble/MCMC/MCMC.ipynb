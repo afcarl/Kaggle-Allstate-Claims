{
 "cells": [
  {
   "cell_type": "code",
   "execution_count": 1,
   "metadata": {
    "collapsed": false
   },
   "outputs": [
    {
     "name": "stderr",
     "output_type": "stream",
     "text": [
      "Using gpu device 0: GeForce 940MX (CNMeM is disabled, cuDNN 5105)\n",
      "/home/him/anaconda2/envs/theano-gpu/lib/python2.7/site-packages/theano/sandbox/cuda/__init__.py:600: UserWarning: Your cuDNN version is more recent than the one Theano officially supports. If you see any problems, try updating Theano or downgrading cuDNN to version 5.\n",
      "  warnings.warn(warn)\n"
     ]
    }
   ],
   "source": [
    "from pymc3 import *\n",
    "from sklearn.metrics import mean_absolute_error"
   ]
  },
  {
   "cell_type": "code",
   "execution_count": 43,
   "metadata": {
    "collapsed": false
   },
   "outputs": [
    {
     "data": {
      "text/plain": [
       "numpy.ndarray"
      ]
     },
     "execution_count": 43,
     "metadata": {},
     "output_type": "execute_result"
    }
   ],
   "source": [
    "import pandas as pd\n",
    "true = pd.read_csv('../../train.csv')\n",
    "true = true['loss'].as_matrix()\n",
    "type(true)"
   ]
  },
  {
   "cell_type": "code",
   "execution_count": 44,
   "metadata": {
    "collapsed": false
   },
   "outputs": [
    {
     "name": "stderr",
     "output_type": "stream",
     "text": [
      "/home/him/anaconda2/envs/gpu-tensorflow/lib/python2.7/site-packages/ipykernel/__main__.py:2: FutureWarning: sort(columns=....) is deprecated, use sort_values(by=.....)\n",
      "  from ipykernel import kernelapp as app\n",
      "/home/him/anaconda2/envs/gpu-tensorflow/lib/python2.7/site-packages/ipykernel/__main__.py:4: FutureWarning: sort(columns=....) is deprecated, use sort_values(by=.....)\n",
      "/home/him/anaconda2/envs/gpu-tensorflow/lib/python2.7/site-packages/ipykernel/__main__.py:6: FutureWarning: sort(columns=....) is deprecated, use sort_values(by=.....)\n",
      "/home/him/anaconda2/envs/gpu-tensorflow/lib/python2.7/site-packages/ipykernel/__main__.py:8: FutureWarning: sort(columns=....) is deprecated, use sort_values(by=.....)\n",
      "/home/him/anaconda2/envs/gpu-tensorflow/lib/python2.7/site-packages/ipykernel/__main__.py:10: FutureWarning: sort(columns=....) is deprecated, use sort_values(by=.....)\n"
     ]
    }
   ],
   "source": [
    "tt = pd.read_csv('keras-train-1111.7.csv')\n",
    "tt = tt.sort('id')\n",
    "tt1 = pd.read_csv('keras-train-1114.csv')\n",
    "tt1 = tt1.sort('id')\n",
    "tt2 = pd.read_csv('keras-train-unk1.csv')\n",
    "tt2 = tt2.sort('id')\n",
    "tt3 = pd.read_csv('keras-train-unk2.csv')\n",
    "tt3 = tt3.sort('id')\n",
    "tt4 = pd.read_csv('keras-train-unk3.csv')\n",
    "tt4 = tt4.sort('id')"
   ]
  },
  {
   "cell_type": "code",
   "execution_count": 45,
   "metadata": {
    "collapsed": false
   },
   "outputs": [],
   "source": [
    "m1 = pd.read_csv('xgb-train-1124.75.csv')['loss'].as_matrix()\n",
    "m2 = pd.read_csv('xgb-train-1127.27.csv')['loss'].as_matrix()\n",
    "k1 = tt['loss'].as_matrix()\n",
    "k2 = tt1['loss'].as_matrix()\n",
    "k3 = tt2['loss'].as_matrix()\n",
    "k4 = tt3['loss'].as_matrix()\n",
    "k5 = tt4['loss'].as_matrix()"
   ]
  },
  {
   "cell_type": "code",
   "execution_count": 46,
   "metadata": {
    "collapsed": false
   },
   "outputs": [
    {
     "name": "stdout",
     "output_type": "stream",
     "text": [
      "1124.75950017\n",
      "1127.27187837\n",
      "1130.58667325\n",
      "1132.58385255\n",
      "1135.48586825\n",
      "1137.42316001\n",
      "1134.46582936\n"
     ]
    }
   ],
   "source": [
    "from sklearn.metrics import mean_absolute_error\n",
    "print mean_absolute_error(true,m1)\n",
    "print mean_absolute_error(true,m2)\n",
    "print mean_absolute_error(true,k1)\n",
    "print mean_absolute_error(true,k2)\n",
    "print mean_absolute_error(true,k3)\n",
    "print mean_absolute_error(true,k4)\n",
    "print mean_absolute_error(true,k5)"
   ]
  },
  {
   "cell_type": "code",
   "execution_count": 47,
   "metadata": {
    "collapsed": false
   },
   "outputs": [
    {
     "name": "stdout",
     "output_type": "stream",
     "text": [
      "1121.63972461\n"
     ]
    }
   ],
   "source": [
    "print mean_absolute_error(true,m1*0.16+m2*0.14+k1*0.14+k2*0.14+k3*0.14+k4*0.14+k5*0.14)"
   ]
  },
  {
   "cell_type": "code",
   "execution_count": 48,
   "metadata": {
    "collapsed": false
   },
   "outputs": [],
   "source": [
    "import numpy as np\n",
    "x_train = np.vstack((m1,m2,k1,k2,k5)).T\n",
    "y = true"
   ]
  },
  {
   "cell_type": "code",
   "execution_count": null,
   "metadata": {
    "collapsed": false
   },
   "outputs": [],
   "source": [
    "import matplotlib.pyplot as plt\n",
    "from sklearn.linear_model import LinearRegression\n",
    "%matplotlib inline\n",
    "clfLR = LinearRegression(fit_intercept=False)\n",
    "clfLR.fit(x_train,y)\n",
    "print clfLR.coef_\n",
    "print mean_absolute_error(true,clfLR.predict(x_train))"
   ]
  },
  {
   "cell_type": "code",
   "execution_count": 12,
   "metadata": {
    "collapsed": false
   },
   "outputs": [
    {
     "name": "stdout",
     "output_type": "stream",
     "text": [
      "1104.02856099\n"
     ]
    }
   ],
   "source": [
    "from sklearn.ensemble import GradientBoostingRegressor\n",
    "clfGB = GradientBoostingRegressor(max_depth=6,loss='lad')\n",
    "clfGB.fit(x_train,y)\n",
    "print mean_absolute_error(true,clfGB.predict(x_train))"
   ]
  },
  {
   "cell_type": "code",
   "execution_count": 18,
   "metadata": {
    "collapsed": false
   },
   "outputs": [],
   "source": [
    "pred = clfGB.predict(x_test)\n",
    "sub = pd.read_csv('xgb-test-1124.75.csv')\n",
    "sub['loss'] = pred\n",
    "sub.to_csv('GBM-Stacking-6-Models.csv',index=False)"
   ]
  },
  {
   "cell_type": "code",
   "execution_count": 49,
   "metadata": {
    "collapsed": false
   },
   "outputs": [
    {
     "name": "stderr",
     "output_type": "stream",
     "text": [
      "/home/him/anaconda2/envs/gpu-tensorflow/lib/python2.7/site-packages/ipykernel/__main__.py:2: FutureWarning: sort(columns=....) is deprecated, use sort_values(by=.....)\n",
      "  from ipykernel import kernelapp as app\n",
      "/home/him/anaconda2/envs/gpu-tensorflow/lib/python2.7/site-packages/ipykernel/__main__.py:4: FutureWarning: sort(columns=....) is deprecated, use sort_values(by=.....)\n",
      "/home/him/anaconda2/envs/gpu-tensorflow/lib/python2.7/site-packages/ipykernel/__main__.py:6: FutureWarning: sort(columns=....) is deprecated, use sort_values(by=.....)\n",
      "/home/him/anaconda2/envs/gpu-tensorflow/lib/python2.7/site-packages/ipykernel/__main__.py:8: FutureWarning: sort(columns=....) is deprecated, use sort_values(by=.....)\n",
      "/home/him/anaconda2/envs/gpu-tensorflow/lib/python2.7/site-packages/ipykernel/__main__.py:10: FutureWarning: sort(columns=....) is deprecated, use sort_values(by=.....)\n"
     ]
    }
   ],
   "source": [
    "tt = pd.read_csv('keras-test-1111.7.csv')\n",
    "tt = tt.sort('id')\n",
    "tt1 = pd.read_csv('keras-test-1114.csv')\n",
    "tt1 = tt1.sort('id')\n",
    "tt2 = pd.read_csv('keras-test-unk1.csv')\n",
    "tt2 = tt2.sort('id')\n",
    "tt3 = pd.read_csv('keras-test-unk2.csv')\n",
    "tt3 = tt3.sort('id')\n",
    "tt4 = pd.read_csv('keras-test-unk3.csv')\n",
    "tt4 = tt4.sort('id')\n",
    "m1 = pd.read_csv('xgb-test-1124.75.csv')['loss'].as_matrix()\n",
    "m2 = pd.read_csv('xgb-test-1127.27.csv')['loss'].as_matrix()\n",
    "k1 = tt['loss'].as_matrix()\n",
    "k2 = tt1['loss'].as_matrix()\n",
    "k3 = tt2['loss'].as_matrix()\n",
    "k4 = tt3['loss'].as_matrix()\n",
    "k5 = tt4['loss'].as_matrix()\n",
    "\n",
    "x_test = np.vstack((m1,m2,k1,k2,k5)).T"
   ]
  },
  {
   "cell_type": "code",
   "execution_count": 50,
   "metadata": {
    "collapsed": false
   },
   "outputs": [],
   "source": [
    "import xgboost as xgb"
   ]
  },
  {
   "cell_type": "code",
   "execution_count": 51,
   "metadata": {
    "collapsed": true
   },
   "outputs": [],
   "source": [
    "dtrain = xgb.DMatrix(x_train, label=np.log(true))\n",
    "dtest = xgb.DMatrix(x_test)"
   ]
  },
  {
   "cell_type": "code",
   "execution_count": 52,
   "metadata": {
    "collapsed": true
   },
   "outputs": [],
   "source": [
    "xgb_params = {\n",
    "    'seed': 0,\n",
    "    'colsample_bytree': 0.8,\n",
    "    'silent': 1,\n",
    "    'subsample': 0.6,\n",
    "    'learning_rate': 0.01,\n",
    "    'objective': 'reg:linear',\n",
    "    'max_depth': 4,\n",
    "    'num_parallel_tree': 1,\n",
    "    'min_child_weight': 1,\n",
    "    'eval_metric': 'mae',\n",
    "}"
   ]
  },
  {
   "cell_type": "code",
   "execution_count": 53,
   "metadata": {
    "collapsed": true
   },
   "outputs": [],
   "source": [
    "def xg_eval_mae(yhat, dtrain):\n",
    "    y = dtrain.get_label()\n",
    "    return 'mae', mean_absolute_error(np.exp(y), np.exp(yhat))"
   ]
  },
  {
   "cell_type": "code",
   "execution_count": 54,
   "metadata": {
    "collapsed": false
   },
   "outputs": [
    {
     "name": "stdout",
     "output_type": "stream",
     "text": [
      "[0]\ttrain-mae:3035.56+4.23313\ttest-mae:3035.56+12.6993\n",
      "[10]\ttrain-mae:3033.82+4.23261\ttest-mae:3033.82+12.6989\n",
      "[20]\ttrain-mae:3030.81+4.23152\ttest-mae:3030.81+12.6984\n",
      "[30]\ttrain-mae:3025.89+4.22942\ttest-mae:3025.89+12.697\n",
      "[40]\ttrain-mae:3018.26+4.22558\ttest-mae:3018.26+12.695\n",
      "[50]\ttrain-mae:3007+4.21896\ttest-mae:3007+12.6908\n",
      "[60]\ttrain-mae:2991.12+4.20883\ttest-mae:2991.12+12.6851\n",
      "[70]\ttrain-mae:2969.62+4.19316\ttest-mae:2969.62+12.6761\n",
      "[80]\ttrain-mae:2941.58+4.17138\ttest-mae:2941.58+12.6611\n",
      "[90]\ttrain-mae:2906.24+4.14387\ttest-mae:2906.24+12.6379\n",
      "[100]\ttrain-mae:2863.06+4.09933\ttest-mae:2863.05+12.6107\n",
      "[110]\ttrain-mae:2811.76+4.04523\ttest-mae:2811.76+12.5781\n",
      "[120]\ttrain-mae:2752.4+3.9732\ttest-mae:2752.4+12.5449\n",
      "[130]\ttrain-mae:2685.34+3.89902\ttest-mae:2685.35+12.501\n",
      "[140]\ttrain-mae:2611.24+3.81691\ttest-mae:2611.26+12.4632\n",
      "[150]\ttrain-mae:2530.94+3.73078\ttest-mae:2530.98+12.4448\n",
      "[160]\ttrain-mae:2445.51+3.62711\ttest-mae:2445.58+12.4244\n",
      "[170]\ttrain-mae:2356.24+3.53621\ttest-mae:2356.33+12.3336\n",
      "[180]\ttrain-mae:2264.58+3.40896\ttest-mae:2264.73+12.1936\n",
      "[190]\ttrain-mae:2171.98+3.26521\ttest-mae:2172.19+12.0237\n",
      "[200]\ttrain-mae:2079.91+3.1114\ttest-mae:2080.19+11.8314\n",
      "[210]\ttrain-mae:1989.75+2.94942\ttest-mae:1990.13+11.6762\n",
      "[220]\ttrain-mae:1902.69+2.78478\ttest-mae:1903.17+11.4439\n",
      "[230]\ttrain-mae:1819.77+2.61725\ttest-mae:1820.37+11.2374\n",
      "[240]\ttrain-mae:1741.83+2.50716\ttest-mae:1742.56+11.0015\n",
      "[250]\ttrain-mae:1669.42+2.34841\ttest-mae:1670.3+10.8047\n",
      "[260]\ttrain-mae:1602.88+2.20497\ttest-mae:1603.94+10.5614\n",
      "[270]\ttrain-mae:1542.39+2.10841\ttest-mae:1543.63+10.3544\n",
      "[280]\ttrain-mae:1487.89+2.02787\ttest-mae:1489.32+10.1951\n",
      "[290]\ttrain-mae:1439.15+2.00339\ttest-mae:1440.78+9.98435\n",
      "[300]\ttrain-mae:1395.95+1.99997\ttest-mae:1397.78+9.70223\n",
      "[310]\ttrain-mae:1357.89+1.94683\ttest-mae:1359.9+9.41918\n",
      "[320]\ttrain-mae:1324.57+1.89284\ttest-mae:1326.8+9.06804\n",
      "[330]\ttrain-mae:1295.59+1.85283\ttest-mae:1298+8.72284\n",
      "[340]\ttrain-mae:1270.48+1.81047\ttest-mae:1273.07+8.43596\n",
      "[350]\ttrain-mae:1248.76+1.80836\ttest-mae:1251.54+8.17063\n",
      "[360]\ttrain-mae:1230.05+1.80979\ttest-mae:1233.01+7.91235\n",
      "[370]\ttrain-mae:1213.96+1.78729\ttest-mae:1217.12+7.70936\n",
      "[380]\ttrain-mae:1200.16+1.76345\ttest-mae:1203.48+7.50563\n",
      "[390]\ttrain-mae:1188.35+1.73858\ttest-mae:1191.81+7.31276\n",
      "[400]\ttrain-mae:1178.19+1.66453\ttest-mae:1181.81+7.15709\n",
      "[410]\ttrain-mae:1169.56+1.66094\ttest-mae:1173.35+7.00012\n",
      "[420]\ttrain-mae:1162.2+1.65636\ttest-mae:1166.16+6.87762\n",
      "[430]\ttrain-mae:1155.9+1.68202\ttest-mae:1160+6.75897\n",
      "[440]\ttrain-mae:1150.53+1.67786\ttest-mae:1154.78+6.66317\n",
      "[450]\ttrain-mae:1145.97+1.69159\ttest-mae:1150.33+6.56053\n",
      "[460]\ttrain-mae:1142.06+1.68683\ttest-mae:1146.55+6.48356\n",
      "[470]\ttrain-mae:1138.74+1.69791\ttest-mae:1143.34+6.39119\n",
      "[480]\ttrain-mae:1135.89+1.71967\ttest-mae:1140.61+6.31236\n",
      "[490]\ttrain-mae:1133.43+1.7498\ttest-mae:1138.25+6.23822\n",
      "[500]\ttrain-mae:1131.33+1.75248\ttest-mae:1136.24+6.21307\n",
      "[510]\ttrain-mae:1129.52+1.75071\ttest-mae:1134.53+6.2003\n",
      "[520]\ttrain-mae:1127.95+1.76765\ttest-mae:1133.09+6.17816\n",
      "[530]\ttrain-mae:1126.58+1.7768\ttest-mae:1131.82+6.14058\n",
      "[540]\ttrain-mae:1125.38+1.7906\ttest-mae:1130.75+6.1056\n",
      "[550]\ttrain-mae:1124.38+1.78975\ttest-mae:1129.82+6.09139\n",
      "[560]\ttrain-mae:1123.46+1.77343\ttest-mae:1128.99+6.09325\n",
      "[570]\ttrain-mae:1122.69+1.78365\ttest-mae:1128.28+6.06155\n",
      "[580]\ttrain-mae:1122+1.78472\ttest-mae:1127.66+6.05033\n",
      "[590]\ttrain-mae:1121.38+1.76885\ttest-mae:1127.13+6.02153\n",
      "[600]\ttrain-mae:1120.82+1.78119\ttest-mae:1126.65+5.97517\n",
      "[610]\ttrain-mae:1120.32+1.75912\ttest-mae:1126.24+5.96135\n",
      "[620]\ttrain-mae:1119.9+1.77038\ttest-mae:1125.88+5.94358\n",
      "[630]\ttrain-mae:1119.51+1.77403\ttest-mae:1125.57+5.90603\n",
      "[640]\ttrain-mae:1119.16+1.76667\ttest-mae:1125.32+5.90851\n",
      "[650]\ttrain-mae:1118.83+1.76486\ttest-mae:1125.07+5.88165\n",
      "[660]\ttrain-mae:1118.54+1.75435\ttest-mae:1124.85+5.85543\n",
      "[670]\ttrain-mae:1118.29+1.75581\ttest-mae:1124.66+5.84839\n",
      "[680]\ttrain-mae:1118.04+1.75105\ttest-mae:1124.47+5.83866\n",
      "[690]\ttrain-mae:1117.81+1.75551\ttest-mae:1124.31+5.82365\n",
      "[700]\ttrain-mae:1117.62+1.74736\ttest-mae:1124.18+5.81791\n",
      "[710]\ttrain-mae:1117.44+1.7293\ttest-mae:1124.04+5.81239\n",
      "[720]\ttrain-mae:1117.28+1.73504\ttest-mae:1123.94+5.80007\n",
      "[730]\ttrain-mae:1117.12+1.73908\ttest-mae:1123.84+5.80294\n",
      "[740]\ttrain-mae:1116.98+1.73864\ttest-mae:1123.75+5.8017\n",
      "[750]\ttrain-mae:1116.85+1.73675\ttest-mae:1123.68+5.80068\n",
      "[760]\ttrain-mae:1116.74+1.7429\ttest-mae:1123.62+5.79857\n",
      "[770]\ttrain-mae:1116.61+1.75423\ttest-mae:1123.55+5.80239\n",
      "[780]\ttrain-mae:1116.51+1.76027\ttest-mae:1123.49+5.79916\n",
      "[790]\ttrain-mae:1116.4+1.76562\ttest-mae:1123.46+5.77844\n",
      "[800]\ttrain-mae:1116.29+1.76145\ttest-mae:1123.4+5.78454\n",
      "[810]\ttrain-mae:1116.19+1.75137\ttest-mae:1123.35+5.79276\n",
      "[820]\ttrain-mae:1116.1+1.73521\ttest-mae:1123.31+5.79764\n",
      "[830]\ttrain-mae:1116.01+1.73254\ttest-mae:1123.28+5.78535\n",
      "[840]\ttrain-mae:1115.95+1.73797\ttest-mae:1123.26+5.77428\n",
      "[850]\ttrain-mae:1115.86+1.74893\ttest-mae:1123.23+5.7792\n",
      "[860]\ttrain-mae:1115.79+1.74404\ttest-mae:1123.21+5.77679\n",
      "[870]\ttrain-mae:1115.71+1.7551\ttest-mae:1123.2+5.77403\n",
      "[880]\ttrain-mae:1115.64+1.75225\ttest-mae:1123.17+5.78626\n",
      "[890]\ttrain-mae:1115.56+1.75336\ttest-mae:1123.14+5.77362\n",
      "[900]\ttrain-mae:1115.49+1.75777\ttest-mae:1123.14+5.76009\n",
      "[910]\ttrain-mae:1115.41+1.76359\ttest-mae:1123.11+5.74705\n",
      "[920]\ttrain-mae:1115.33+1.75895\ttest-mae:1123.09+5.74429\n",
      "[930]\ttrain-mae:1115.26+1.75469\ttest-mae:1123.08+5.7526\n",
      "[940]\ttrain-mae:1115.22+1.75875\ttest-mae:1123.08+5.75844\n",
      "[950]\ttrain-mae:1115.14+1.7609\ttest-mae:1123.06+5.76509\n",
      "[960]\ttrain-mae:1115.07+1.75545\ttest-mae:1123.05+5.77865\n",
      "[970]\ttrain-mae:1115.02+1.75337\ttest-mae:1123.05+5.77438\n",
      "[980]\ttrain-mae:1114.96+1.76002\ttest-mae:1123.05+5.76179\n",
      "[990]\ttrain-mae:1114.92+1.7519\ttest-mae:1123.05+5.75972\n"
     ]
    }
   ],
   "source": [
    "SEED = 0\n",
    "res = xgb.cv(xgb_params, dtrain, num_boost_round=1000, nfold=4, seed=SEED, stratified=False,\n",
    "             early_stopping_rounds=25, verbose_eval=10, show_stdv=True, feval=xg_eval_mae, maximize=False)"
   ]
  },
  {
   "cell_type": "code",
   "execution_count": 55,
   "metadata": {
    "collapsed": false
   },
   "outputs": [
    {
     "name": "stdout",
     "output_type": "stream",
     "text": [
      "999\n"
     ]
    }
   ],
   "source": [
    "best_nrounds = res.shape[0] - 1\n",
    "print best_nrounds"
   ]
  },
  {
   "cell_type": "code",
   "execution_count": 56,
   "metadata": {
    "collapsed": false
   },
   "outputs": [
    {
     "name": "stdout",
     "output_type": "stream",
     "text": [
      "Ensemble-CV: 1123.05014025+5.75822213213\n"
     ]
    }
   ],
   "source": [
    "cv_mean = res.iloc[-1, 0]\n",
    "cv_std = res.iloc[-1, 1]\n",
    "print('Ensemble-CV: {0}+{1}'.format(cv_mean, cv_std))"
   ]
  },
  {
   "cell_type": "code",
   "execution_count": 57,
   "metadata": {
    "collapsed": true
   },
   "outputs": [],
   "source": [
    "gbdt = xgb.train(xgb_params, dtrain, best_nrounds)"
   ]
  },
  {
   "cell_type": "code",
   "execution_count": 58,
   "metadata": {
    "collapsed": true
   },
   "outputs": [],
   "source": [
    "submission = pd.read_csv('../submission.csv')\n",
    "submission.iloc[:, 1] = np.exp(gbdt.predict(dtest))\n",
    "submission.to_csv('xgstacker_unsubmitted_v2.sub.csv', index=None)"
   ]
  },
  {
   "cell_type": "code",
   "execution_count": 59,
   "metadata": {
    "collapsed": false
   },
   "outputs": [
    {
     "name": "stdout",
     "output_type": "stream",
     "text": [
      "1116.33607044\n"
     ]
    }
   ],
   "source": [
    "print mean_absolute_error(np.exp(gbdt.predict(dtrain)),true)"
   ]
  },
  {
   "cell_type": "code",
   "execution_count": null,
   "metadata": {
    "collapsed": true
   },
   "outputs": [],
   "source": []
  },
  {
   "cell_type": "code",
   "execution_count": null,
   "metadata": {
    "collapsed": true
   },
   "outputs": [],
   "source": []
  },
  {
   "cell_type": "code",
   "execution_count": 21,
   "metadata": {
    "collapsed": false
   },
   "outputs": [
    {
     "name": "stdout",
     "output_type": "stream",
     "text": [
      "1120.31821199\n"
     ]
    }
   ],
   "source": [
    "print mean_absolute_error(true,0.5*m1+0.5*k1)"
   ]
  },
  {
   "cell_type": "code",
   "execution_count": 24,
   "metadata": {
    "collapsed": false
   },
   "outputs": [
    {
     "name": "stdout",
     "output_type": "stream",
     "text": [
      "1 1127.35448493\n",
      "2 1124.72814865\n",
      "3 1122.69282074\n",
      "4 1121.2183035\n",
      "5 1120.31821199\n",
      "6 1120.02294573\n",
      "7 1120.34295071\n",
      "8 1121.2345667\n",
      "9 1122.70307992\n",
      "10 1124.75950017\n"
     ]
    }
   ],
   "source": [
    "for i in range(1,11):\n",
    "    print i,mean_absolute_error(true,i*0.1*m1+(10-i)*0.1*k1)"
   ]
  },
  {
   "cell_type": "code",
   "execution_count": 31,
   "metadata": {
    "collapsed": false
   },
   "outputs": [
    {
     "name": "stdout",
     "output_type": "stream",
     "text": [
      "1119.06375239 (0.40000000000000002, 0.20000000000000001, 0.10000000000000001, 0.10000000000000001, 0.19999999999999993)\n"
     ]
    }
   ],
   "source": [
    "temp,best = None,None\n",
    "for i in np.arange(0,1.1,0.1):\n",
    "    for j in np.arange(0,1.1-i,0.1):\n",
    "        for k in np.arange(0,1.1-i-j,0.1):\n",
    "            for l in np.arange(0,1.1-i-j-k,0.1):\n",
    "                if best is None:\n",
    "                    best = mean_absolute_error(true,i*m1+j*m2+k*k1+l*k2+(1-i-j-k-l)*k5)\n",
    "                    temp = (i,j,k,l,1-i-j-k-l)\n",
    "                else:\n",
    "                    val = mean_absolute_error(true,i*m1+j*m2+k*k1+l*k2+(1-i-j-k-l)*k5)\n",
    "                    if val<best:\n",
    "                        best = val\n",
    "                        temp = (i,j,k,l,1-i-j-k-l)\n",
    "                #print i,j,k,l,1-i-j-k-l,' : ',mean_absolute_error(true,i*m1+j*m2+k*k1+(1-i-j-k)*k2)\n",
    "print best,temp"
   ]
  },
  {
   "cell_type": "code",
   "execution_count": 33,
   "metadata": {
    "collapsed": false
   },
   "outputs": [],
   "source": [
    "wt = np.array((0.40000000000000002, 0.20000000000000001, 0.10000000000000001, 0.10000000000000001, 0.19999999999999993))"
   ]
  },
  {
   "cell_type": "code",
   "execution_count": 34,
   "metadata": {
    "collapsed": true
   },
   "outputs": [],
   "source": [
    "cc = np.vstack((m1,m2,k1,k2,k5)).T"
   ]
  },
  {
   "cell_type": "code",
   "execution_count": 40,
   "metadata": {
    "collapsed": false
   },
   "outputs": [
    {
     "name": "stdout",
     "output_type": "stream",
     "text": [
      "1119.06375239\n"
     ]
    }
   ],
   "source": [
    "cur = np.sum(wt*cc,axis=1)\n",
    "print mean_absolute_error(true,cur)"
   ]
  },
  {
   "cell_type": "code",
   "execution_count": 41,
   "metadata": {
    "collapsed": false
   },
   "outputs": [
    {
     "name": "stderr",
     "output_type": "stream",
     "text": [
      "/home/him/anaconda2/envs/gpu-tensorflow/lib/python2.7/site-packages/ipykernel/__main__.py:2: FutureWarning: sort(columns=....) is deprecated, use sort_values(by=.....)\n",
      "  from ipykernel import kernelapp as app\n",
      "/home/him/anaconda2/envs/gpu-tensorflow/lib/python2.7/site-packages/ipykernel/__main__.py:4: FutureWarning: sort(columns=....) is deprecated, use sort_values(by=.....)\n",
      "/home/him/anaconda2/envs/gpu-tensorflow/lib/python2.7/site-packages/ipykernel/__main__.py:6: FutureWarning: sort(columns=....) is deprecated, use sort_values(by=.....)\n",
      "/home/him/anaconda2/envs/gpu-tensorflow/lib/python2.7/site-packages/ipykernel/__main__.py:8: FutureWarning: sort(columns=....) is deprecated, use sort_values(by=.....)\n",
      "/home/him/anaconda2/envs/gpu-tensorflow/lib/python2.7/site-packages/ipykernel/__main__.py:10: FutureWarning: sort(columns=....) is deprecated, use sort_values(by=.....)\n"
     ]
    },
    {
     "name": "stdout",
     "output_type": "stream",
     "text": [
      "(125546,)\n"
     ]
    }
   ],
   "source": [
    "tt = pd.read_csv('keras-test-1111.7.csv')\n",
    "tt = tt.sort('id')\n",
    "tt1 = pd.read_csv('keras-test-1114.csv')\n",
    "tt1 = tt1.sort('id')\n",
    "tt2 = pd.read_csv('keras-test-unk1.csv')\n",
    "tt2 = tt2.sort('id')\n",
    "tt3 = pd.read_csv('keras-test-unk2.csv')\n",
    "tt3 = tt3.sort('id')\n",
    "tt4 = pd.read_csv('keras-test-unk3.csv')\n",
    "tt4 = tt4.sort('id')\n",
    "m1 = pd.read_csv('xgb-test-1124.75.csv')['loss'].as_matrix()\n",
    "m2 = pd.read_csv('xgb-test-1127.27.csv')['loss'].as_matrix()\n",
    "k1 = tt['loss'].as_matrix()\n",
    "k2 = tt1['loss'].as_matrix()\n",
    "k3 = tt2['loss'].as_matrix()\n",
    "k4 = tt3['loss'].as_matrix()\n",
    "k5 = tt4['loss'].as_matrix()\n",
    "\n",
    "x_test = np.vstack((m1,m2,k1,k2,k5)).T\n",
    "test_pred = np.sum(wt*x_test,axis=1)\n",
    "print test_pred.shape"
   ]
  },
  {
   "cell_type": "code",
   "execution_count": 42,
   "metadata": {
    "collapsed": true
   },
   "outputs": [],
   "source": [
    "submission = pd.read_csv('../submission.csv')\n",
    "submission.iloc[:, 1] = test_pred\n",
    "submission.to_csv('Final_Submit_weighted_average.csv', index=None)"
   ]
  },
  {
   "cell_type": "code",
   "execution_count": 21,
   "metadata": {
    "collapsed": true
   },
   "outputs": [],
   "source": [
    "d_train = xgb.DMatrix(x_train,label=true)\n",
    "watchlist = [(d_train, 'train')]"
   ]
  },
  {
   "cell_type": "code",
   "execution_count": 22,
   "metadata": {
    "collapsed": true
   },
   "outputs": [],
   "source": [
    "param = {'bst:max_depth':6, 'bst:eta':1, 'silent':1, 'objective':'reg:linear' }\n",
    "param['nthread'] = 4\n",
    "param['eval_metric'] = 'mae'"
   ]
  },
  {
   "cell_type": "code",
   "execution_count": 24,
   "metadata": {
    "collapsed": true
   },
   "outputs": [],
   "source": [
    "from sklearn.cross_validation import KFold"
   ]
  },
  {
   "cell_type": "code",
   "execution_count": 30,
   "metadata": {
    "collapsed": false
   },
   "outputs": [
    {
     "name": "stdout",
     "output_type": "stream",
     "text": [
      "[0]\ttrain-mae:2140.57\ttest-mae:2154.04\n",
      "Multiple eval metrics have been passed: 'test-mae' will be used for early stopping.\n",
      "\n",
      "Will train until test-mae hasn't improved in 1 rounds.\n",
      "[1]\ttrain-mae:1592.53\ttest-mae:1604.03\n",
      "[2]\ttrain-mae:1312.35\ttest-mae:1323.47\n",
      "[3]\ttrain-mae:1185.85\ttest-mae:1201.91\n",
      "[4]\ttrain-mae:1134.33\ttest-mae:1155.33\n",
      "[5]\ttrain-mae:1116.85\ttest-mae:1141.67\n",
      "[6]\ttrain-mae:1113.5\ttest-mae:1141.67\n",
      "Stopping. Best iteration:\n",
      "[5]\ttrain-mae:1116.85\ttest-mae:1141.67\n",
      "\n",
      "1  Folds score:  1141.67046165\n",
      "[0]\ttrain-mae:2141.47\ttest-mae:2136.22\n",
      "Multiple eval metrics have been passed: 'test-mae' will be used for early stopping.\n",
      "\n",
      "Will train until test-mae hasn't improved in 1 rounds.\n",
      "[1]\ttrain-mae:1593.36\ttest-mae:1588.14\n",
      "[2]\ttrain-mae:1313.61\ttest-mae:1310.34\n",
      "[3]\ttrain-mae:1187.15\ttest-mae:1190.8\n",
      "[4]\ttrain-mae:1135.67\ttest-mae:1142.94\n",
      "[5]\ttrain-mae:1118.12\ttest-mae:1128.48\n",
      "[6]\ttrain-mae:1114.94\ttest-mae:1127.92\n",
      "[7]\ttrain-mae:1116.81\ttest-mae:1131.79\n",
      "Stopping. Best iteration:\n",
      "[6]\ttrain-mae:1114.94\ttest-mae:1127.92\n",
      "\n",
      "2  Folds score:  1131.79373004\n",
      "[0]\ttrain-mae:2141.37\ttest-mae:2141.29\n",
      "Multiple eval metrics have been passed: 'test-mae' will be used for early stopping.\n",
      "\n",
      "Will train until test-mae hasn't improved in 1 rounds.\n",
      "[1]\ttrain-mae:1593.44\ttest-mae:1593.7\n",
      "[2]\ttrain-mae:1313.19\ttest-mae:1314.08\n",
      "[3]\ttrain-mae:1186.89\ttest-mae:1190.11\n",
      "[4]\ttrain-mae:1135.4\ttest-mae:1140.08\n",
      "[5]\ttrain-mae:1118.03\ttest-mae:1124.92\n",
      "[6]\ttrain-mae:1114.61\ttest-mae:1123.11\n",
      "[7]\ttrain-mae:1116.41\ttest-mae:1126.81\n",
      "Stopping. Best iteration:\n",
      "[6]\ttrain-mae:1114.61\ttest-mae:1123.11\n",
      "\n",
      "3  Folds score:  1126.81318719\n",
      "[0]\ttrain-mae:2142.64\ttest-mae:2101.36\n",
      "Multiple eval metrics have been passed: 'test-mae' will be used for early stopping.\n",
      "\n",
      "Will train until test-mae hasn't improved in 1 rounds.\n",
      "[1]\ttrain-mae:1594.41\ttest-mae:1557.06\n",
      "[2]\ttrain-mae:1314.05\ttest-mae:1285.9\n",
      "[3]\ttrain-mae:1187.39\ttest-mae:1169.08\n",
      "[4]\ttrain-mae:1136.09\ttest-mae:1126.87\n",
      "[5]\ttrain-mae:1118.49\ttest-mae:1115.54\n",
      "[6]\ttrain-mae:1115.23\ttest-mae:1117.07\n",
      "Stopping. Best iteration:\n",
      "[5]\ttrain-mae:1118.49\ttest-mae:1115.54\n",
      "\n",
      "4  Folds score:  1117.0746033\n",
      "[0]\ttrain-mae:2141.89\ttest-mae:2135.08\n",
      "Multiple eval metrics have been passed: 'test-mae' will be used for early stopping.\n",
      "\n",
      "Will train until test-mae hasn't improved in 1 rounds.\n",
      "[1]\ttrain-mae:1593.82\ttest-mae:1589.37\n",
      "[2]\ttrain-mae:1313.53\ttest-mae:1311.11\n",
      "[3]\ttrain-mae:1187.25\ttest-mae:1183.25\n",
      "[4]\ttrain-mae:1136.08\ttest-mae:1130.28\n",
      "[5]\ttrain-mae:1118.67\ttest-mae:1113.74\n",
      "[6]\ttrain-mae:1115.38\ttest-mae:1111.76\n",
      "[7]\ttrain-mae:1117.4\ttest-mae:1114.05\n",
      "Stopping. Best iteration:\n",
      "[6]\ttrain-mae:1115.38\ttest-mae:1111.76\n",
      "\n",
      "5  Folds score:  1114.04805776\n",
      "[0]\ttrain-mae:2140.12\ttest-mae:2168.13\n",
      "Multiple eval metrics have been passed: 'test-mae' will be used for early stopping.\n",
      "\n",
      "Will train until test-mae hasn't improved in 1 rounds.\n",
      "[1]\ttrain-mae:1592.03\ttest-mae:1623.02\n",
      "[2]\ttrain-mae:1312.27\ttest-mae:1341.01\n",
      "[3]\ttrain-mae:1186.15\ttest-mae:1214.58\n",
      "[4]\ttrain-mae:1134.66\ttest-mae:1164.73\n",
      "[5]\ttrain-mae:1117.29\ttest-mae:1148.98\n",
      "[6]\ttrain-mae:1113.92\ttest-mae:1146.8\n",
      "[7]\ttrain-mae:1115.81\ttest-mae:1149.77\n",
      "Stopping. Best iteration:\n",
      "[6]\ttrain-mae:1113.92\ttest-mae:1146.8\n",
      "\n",
      "6  Folds score:  1149.76696571\n",
      "[0]\ttrain-mae:2141.51\ttest-mae:2134.45\n",
      "Multiple eval metrics have been passed: 'test-mae' will be used for early stopping.\n",
      "\n",
      "Will train until test-mae hasn't improved in 1 rounds.\n",
      "[1]\ttrain-mae:1593.53\ttest-mae:1585.81\n",
      "[2]\ttrain-mae:1313.61\ttest-mae:1302.64\n",
      "[3]\ttrain-mae:1187.47\ttest-mae:1172.2\n",
      "[4]\ttrain-mae:1136.35\ttest-mae:1119.7\n",
      "[5]\ttrain-mae:1118.98\ttest-mae:1103.07\n",
      "[6]\ttrain-mae:1115.73\ttest-mae:1101.5\n",
      "[7]\ttrain-mae:1117.51\ttest-mae:1103.96\n",
      "Stopping. Best iteration:\n",
      "[6]\ttrain-mae:1115.73\ttest-mae:1101.5\n",
      "\n",
      "7  Folds score:  1103.96351271\n",
      "[0]\ttrain-mae:2141.44\ttest-mae:2137.28\n",
      "Multiple eval metrics have been passed: 'test-mae' will be used for early stopping.\n",
      "\n",
      "Will train until test-mae hasn't improved in 1 rounds.\n",
      "[1]\ttrain-mae:1593.53\ttest-mae:1590.44\n",
      "[2]\ttrain-mae:1313.07\ttest-mae:1316.31\n",
      "[3]\ttrain-mae:1186.56\ttest-mae:1193.86\n",
      "[4]\ttrain-mae:1135.35\ttest-mae:1143.93\n",
      "[5]\ttrain-mae:1118.1\ttest-mae:1127.82\n",
      "[6]\ttrain-mae:1114.73\ttest-mae:1125.47\n",
      "[7]\ttrain-mae:1116.6\ttest-mae:1127.67\n",
      "Stopping. Best iteration:\n",
      "[6]\ttrain-mae:1114.73\ttest-mae:1125.47\n",
      "\n",
      "8  Folds score:  1127.66793207\n",
      "[0]\ttrain-mae:2139.67\ttest-mae:2181.52\n",
      "Multiple eval metrics have been passed: 'test-mae' will be used for early stopping.\n",
      "\n",
      "Will train until test-mae hasn't improved in 1 rounds.\n",
      "[1]\ttrain-mae:1592.01\ttest-mae:1633.05\n",
      "[2]\ttrain-mae:1311.89\ttest-mae:1353.74\n",
      "[3]\ttrain-mae:1185.24\ttest-mae:1230.7\n",
      "[4]\ttrain-mae:1133.85\ttest-mae:1180.21\n",
      "[5]\ttrain-mae:1116.51\ttest-mae:1163.76\n",
      "[6]\ttrain-mae:1113.1\ttest-mae:1161.47\n",
      "[7]\ttrain-mae:1114.94\ttest-mae:1164.79\n",
      "Stopping. Best iteration:\n",
      "[6]\ttrain-mae:1113.1\ttest-mae:1161.47\n",
      "\n",
      "9  Folds score:  1164.79075774\n",
      "[0]\ttrain-mae:2141.49\ttest-mae:2141.58\n",
      "Multiple eval metrics have been passed: 'test-mae' will be used for early stopping.\n",
      "\n",
      "Will train until test-mae hasn't improved in 1 rounds.\n",
      "[1]\ttrain-mae:1593.29\ttest-mae:1599.3\n",
      "[2]\ttrain-mae:1313.47\ttest-mae:1320.46\n",
      "[3]\ttrain-mae:1187.07\ttest-mae:1194.52\n",
      "[4]\ttrain-mae:1135.66\ttest-mae:1142.27\n",
      "[5]\ttrain-mae:1118.41\ttest-mae:1123.39\n",
      "[6]\ttrain-mae:1115.31\ttest-mae:1119.1\n",
      "[7]\ttrain-mae:1117.27\ttest-mae:1119.76\n",
      "Stopping. Best iteration:\n",
      "[6]\ttrain-mae:1115.31\ttest-mae:1119.1\n",
      "\n",
      "10  Folds score:  1119.7598702\n",
      "[0]\ttrain-mae:2140.62\ttest-mae:2163.99\n",
      "Multiple eval metrics have been passed: 'test-mae' will be used for early stopping.\n",
      "\n",
      "Will train until test-mae hasn't improved in 1 rounds.\n",
      "[1]\ttrain-mae:1592.59\ttest-mae:1621.14\n",
      "[2]\ttrain-mae:1312.25\ttest-mae:1345.13\n",
      "[3]\ttrain-mae:1185.85\ttest-mae:1217.02\n",
      "[4]\ttrain-mae:1134.5\ttest-mae:1163.79\n",
      "[5]\ttrain-mae:1117.3\ttest-mae:1145.91\n",
      "[6]\ttrain-mae:1114.13\ttest-mae:1142.46\n",
      "[7]\ttrain-mae:1115.98\ttest-mae:1144.6\n",
      "Stopping. Best iteration:\n",
      "[6]\ttrain-mae:1114.13\ttest-mae:1142.46\n",
      "\n",
      "11  Folds score:  1144.60044265\n",
      "[0]\ttrain-mae:2142\ttest-mae:2130.62\n",
      "Multiple eval metrics have been passed: 'test-mae' will be used for early stopping.\n",
      "\n",
      "Will train until test-mae hasn't improved in 1 rounds.\n",
      "[1]\ttrain-mae:1594.14\ttest-mae:1583.61\n",
      "[2]\ttrain-mae:1313.68\ttest-mae:1306.8\n",
      "[3]\ttrain-mae:1187.01\ttest-mae:1185.86\n",
      "[4]\ttrain-mae:1135.56\ttest-mae:1134.18\n",
      "[5]\ttrain-mae:1118.38\ttest-mae:1116.77\n",
      "[6]\ttrain-mae:1115.18\ttest-mae:1113.72\n",
      "[7]\ttrain-mae:1116.93\ttest-mae:1115.78\n",
      "Stopping. Best iteration:\n",
      "[6]\ttrain-mae:1115.18\ttest-mae:1113.72\n",
      "\n",
      "12  Folds score:  1115.77897373\n",
      "[0]\ttrain-mae:2141.1\ttest-mae:2146.25\n",
      "Multiple eval metrics have been passed: 'test-mae' will be used for early stopping.\n",
      "\n",
      "Will train until test-mae hasn't improved in 1 rounds.\n",
      "[1]\ttrain-mae:1593.18\ttest-mae:1598.47\n",
      "[2]\ttrain-mae:1313.23\ttest-mae:1319.75\n",
      "[3]\ttrain-mae:1187\ttest-mae:1192.06\n",
      "[4]\ttrain-mae:1135.55\ttest-mae:1140.81\n",
      "[5]\ttrain-mae:1118.24\ttest-mae:1123.9\n",
      "[6]\ttrain-mae:1115\ttest-mae:1123.04\n",
      "[7]\ttrain-mae:1116.75\ttest-mae:1127.07\n",
      "Stopping. Best iteration:\n",
      "[6]\ttrain-mae:1115\ttest-mae:1123.04\n",
      "\n",
      "13  Folds score:  1127.07375854\n",
      "[0]\ttrain-mae:2140.17\ttest-mae:2166.08\n",
      "Multiple eval metrics have been passed: 'test-mae' will be used for early stopping.\n",
      "\n",
      "Will train until test-mae hasn't improved in 1 rounds.\n",
      "[1]\ttrain-mae:1592.42\ttest-mae:1615.11\n",
      "[2]\ttrain-mae:1312.46\ttest-mae:1336.21\n",
      "[3]\ttrain-mae:1186.07\ttest-mae:1208.63\n",
      "[4]\ttrain-mae:1134.84\ttest-mae:1155.94\n",
      "[5]\ttrain-mae:1117.68\ttest-mae:1139.25\n",
      "[6]\ttrain-mae:1114.48\ttest-mae:1136.61\n",
      "[7]\ttrain-mae:1116.35\ttest-mae:1139.38\n",
      "Stopping. Best iteration:\n",
      "[6]\ttrain-mae:1114.48\ttest-mae:1136.61\n",
      "\n",
      "14  Folds score:  1139.38130678\n",
      "[0]\ttrain-mae:2143.2\ttest-mae:2101.05\n",
      "Multiple eval metrics have been passed: 'test-mae' will be used for early stopping.\n",
      "\n",
      "Will train until test-mae hasn't improved in 1 rounds.\n",
      "[1]\ttrain-mae:1594.44\ttest-mae:1565.61\n",
      "[2]\ttrain-mae:1313.99\ttest-mae:1290.97\n",
      "[3]\ttrain-mae:1187.49\ttest-mae:1169.49\n",
      "[4]\ttrain-mae:1135.94\ttest-mae:1123.36\n",
      "[5]\ttrain-mae:1118.7\ttest-mae:1110.47\n",
      "[6]\ttrain-mae:1115.43\ttest-mae:1109.45\n",
      "[7]\ttrain-mae:1117.32\ttest-mae:1112.87\n",
      "Stopping. Best iteration:\n",
      "[6]\ttrain-mae:1115.43\ttest-mae:1109.45\n",
      "\n",
      "15  Folds score:  1112.87216753\n",
      "[0]\ttrain-mae:2140.01\ttest-mae:2171.12\n",
      "Multiple eval metrics have been passed: 'test-mae' will be used for early stopping.\n",
      "\n",
      "Will train until test-mae hasn't improved in 1 rounds.\n",
      "[1]\ttrain-mae:1592.09\ttest-mae:1622.95\n",
      "[2]\ttrain-mae:1312.15\ttest-mae:1343.34\n",
      "[3]\ttrain-mae:1185.79\ttest-mae:1220.87\n",
      "[4]\ttrain-mae:1133.93\ttest-mae:1171.92\n",
      "[5]\ttrain-mae:1116.64\ttest-mae:1155.17\n",
      "[6]\ttrain-mae:1113.25\ttest-mae:1151.43\n",
      "[7]\ttrain-mae:1115.13\ttest-mae:1154.17\n",
      "Stopping. Best iteration:\n",
      "[6]\ttrain-mae:1113.25\ttest-mae:1151.43\n",
      "\n",
      "16  Folds score:  1154.16506451\n",
      "[0]\ttrain-mae:2140.98\ttest-mae:2152.74\n",
      "Multiple eval metrics have been passed: 'test-mae' will be used for early stopping.\n",
      "\n",
      "Will train until test-mae hasn't improved in 1 rounds.\n",
      "[1]\ttrain-mae:1593.24\ttest-mae:1604.76\n",
      "[2]\ttrain-mae:1313\ttest-mae:1324.65\n",
      "[3]\ttrain-mae:1186.62\ttest-mae:1199.28\n",
      "[4]\ttrain-mae:1135.26\ttest-mae:1148.84\n",
      "[5]\ttrain-mae:1117.94\ttest-mae:1131.26\n",
      "[6]\ttrain-mae:1114.66\ttest-mae:1128.27\n",
      "[7]\ttrain-mae:1116.23\ttest-mae:1130.32\n",
      "Stopping. Best iteration:\n",
      "[6]\ttrain-mae:1114.66\ttest-mae:1128.27\n",
      "\n",
      "17  Folds score:  1130.31523587\n",
      "[0]\ttrain-mae:2142.18\ttest-mae:2131.56\n",
      "Multiple eval metrics have been passed: 'test-mae' will be used for early stopping.\n",
      "\n",
      "Will train until test-mae hasn't improved in 1 rounds.\n",
      "[1]\ttrain-mae:1594.18\ttest-mae:1588.04\n",
      "[2]\ttrain-mae:1314.36\ttest-mae:1310.26\n",
      "[3]\ttrain-mae:1187.84\ttest-mae:1182.78\n",
      "[4]\ttrain-mae:1136.38\ttest-mae:1129.64\n",
      "[5]\ttrain-mae:1118.97\ttest-mae:1110.83\n",
      "[6]\ttrain-mae:1115.63\ttest-mae:1107.72\n",
      "[7]\ttrain-mae:1117.4\ttest-mae:1109.06\n",
      "Stopping. Best iteration:\n",
      "[6]\ttrain-mae:1115.63\ttest-mae:1107.72\n",
      "\n",
      "18  Folds score:  1109.06160672\n",
      "[0]\ttrain-mae:2141.74\ttest-mae:2131.85\n",
      "Multiple eval metrics have been passed: 'test-mae' will be used for early stopping.\n",
      "\n",
      "Will train until test-mae hasn't improved in 1 rounds.\n",
      "[1]\ttrain-mae:1593.74\ttest-mae:1583\n",
      "[2]\ttrain-mae:1313.93\ttest-mae:1306.28\n",
      "[3]\ttrain-mae:1187.66\ttest-mae:1183.48\n",
      "[4]\ttrain-mae:1136.14\ttest-mae:1138.41\n",
      "[5]\ttrain-mae:1118.73\ttest-mae:1124.97\n",
      "[6]\ttrain-mae:1115.28\ttest-mae:1125.31\n",
      "Stopping. Best iteration:\n",
      "[5]\ttrain-mae:1118.73\ttest-mae:1124.97\n",
      "\n",
      "19  Folds score:  1125.30649608\n",
      "[0]\ttrain-mae:2142.13\ttest-mae:2119.33\n",
      "Multiple eval metrics have been passed: 'test-mae' will be used for early stopping.\n",
      "\n",
      "Will train until test-mae hasn't improved in 1 rounds.\n",
      "[1]\ttrain-mae:1594.04\ttest-mae:1571.72\n",
      "[2]\ttrain-mae:1313.97\ttest-mae:1294.12\n",
      "[3]\ttrain-mae:1187.42\ttest-mae:1173.67\n",
      "[4]\ttrain-mae:1136.08\ttest-mae:1127.06\n",
      "[5]\ttrain-mae:1118.77\ttest-mae:1112.27\n",
      "[6]\ttrain-mae:1115.49\ttest-mae:1110.36\n",
      "[7]\ttrain-mae:1117.37\ttest-mae:1113.96\n",
      "Stopping. Best iteration:\n",
      "[6]\ttrain-mae:1115.49\ttest-mae:1110.36\n",
      "\n",
      "20  Folds score:  1113.96293877\n",
      "Total Average MAE:  1128.49335348\n"
     ]
    }
   ],
   "source": [
    "cv_sum = 0\n",
    "n_fold = 20\n",
    "kf = KFold(x_train.shape[0],n_folds=n_fold)\n",
    "Test = xgb.DMatrix(x_test)\n",
    "test_pred = np.zeros(x_test.shape[0])\n",
    "for i,(inTr,inTe) in enumerate(kf):\n",
    "    xtr, xval = x_train[inTr], x_train[inTe]\n",
    "    ytr, yval = true[inTr], true[inTe]\n",
    "    param = {'bst:max_depth':6, 'bst:eta':1, 'silent':0, 'objective':'reg:linear' }\n",
    "    param['nthread'] = 4\n",
    "    param['eval_metric'] = 'mae'\n",
    "    d_train = xgb.DMatrix(xtr,label=ytr)\n",
    "    d_test = xgb.DMatrix(xval,label=yval)\n",
    "    watchlist = [(d_train, 'train'),(d_test, 'test')]\n",
    "    clf = xgb.train(param,d_train,100,watchlist,early_stopping_rounds=1)\n",
    "    print i+1,' Folds score: ',mean_absolute_error(clf.predict(d_test),yval)\n",
    "    cv_sum += mean_absolute_error(clf.predict(d_test),yval)\n",
    "    test_pred += clf.predict(Test)\n",
    "    \n",
    "print 'Total Average MAE: ',cv_sum/n_fold\n",
    "test_pred /= n_fold"
   ]
  },
  {
   "cell_type": "code",
   "execution_count": 32,
   "metadata": {
    "collapsed": true
   },
   "outputs": [],
   "source": [
    "sub = pd.read_csv('xgb-test-1124.75.csv')\n",
    "sub['loss'] = test_pred\n",
    "sub.to_csv('XGB-Stacking-6-Models.csv',index=False)"
   ]
  },
  {
   "cell_type": "code",
   "execution_count": null,
   "metadata": {
    "collapsed": true
   },
   "outputs": [],
   "source": []
  },
  {
   "cell_type": "code",
   "execution_count": null,
   "metadata": {
    "collapsed": true
   },
   "outputs": [],
   "source": []
  },
  {
   "cell_type": "code",
   "execution_count": null,
   "metadata": {
    "collapsed": true
   },
   "outputs": [],
   "source": []
  },
  {
   "cell_type": "code",
   "execution_count": null,
   "metadata": {
    "collapsed": true
   },
   "outputs": [],
   "source": []
  },
  {
   "cell_type": "code",
   "execution_count": null,
   "metadata": {
    "collapsed": true
   },
   "outputs": [],
   "source": []
  },
  {
   "cell_type": "code",
   "execution_count": 10,
   "metadata": {
    "collapsed": false
   },
   "outputs": [
    {
     "name": "stdout",
     "output_type": "stream",
     "text": [
      "0.0\n",
      "[ 0.53199188  0.19685441  0.37289664]\n",
      "1137.04766454\n"
     ]
    },
    {
     "name": "stderr",
     "output_type": "stream",
     "text": [
      "/home/him/anaconda2/envs/theano-gpu/lib/python2.7/site-packages/sklearn/linear_model/coordinate_descent.py:484: ConvergenceWarning: Objective did not converge. You might want to increase the number of iterations. Fitting data with very small alpha may cause precision problems.\n",
      "  ConvergenceWarning)\n"
     ]
    }
   ],
   "source": [
    "from sklearn.linear_model import Lasso\n",
    "clfLasso = Lasso(fit_intercept=False)\n",
    "clfLasso.fit(x_train,y)\n",
    "print clfLasso.intercept_\n",
    "print clfLasso.coef_\n",
    "print mean_absolute_error(true,clfLasso.predict(x_train))"
   ]
  },
  {
   "cell_type": "code",
   "execution_count": 11,
   "metadata": {
    "collapsed": false
   },
   "outputs": [
    {
     "name": "stderr",
     "output_type": "stream",
     "text": [
      "/home/him/anaconda2/envs/theano-gpu/lib/python2.7/site-packages/sklearn/cross_validation.py:44: DeprecationWarning: This module was deprecated in version 0.18 in favor of the model_selection module into which all the refactored classes and functions are moved. Also note that the interface of the new CV iterators are different from that of this module. This module will be removed in 0.20.\n",
      "  \"This module will be removed in 0.20.\", DeprecationWarning)\n"
     ]
    },
    {
     "name": "stdout",
     "output_type": "stream",
     "text": [
      "0  Fold error :  1147.83406141\n",
      "[ 0.53608596  0.18970317  0.37629318]\n",
      "1  Fold error :  1134.48614038\n",
      "[ 0.531268    0.20029492  0.37156483]\n",
      "2  Fold error :  1140.28040129\n",
      "[ 0.5750781   0.14505795  0.38139682]\n",
      "3  Fold error :  1123.93811606\n",
      "[ 0.5524227   0.15984359  0.38996464]\n",
      "4  Fold error :  1144.72708906\n",
      "[ 0.52787838  0.19766014  0.37502009]\n",
      "5  Fold error :  1138.58551793\n",
      "[ 0.53374083  0.21554565  0.35199786]\n",
      "6  Fold error :  1142.91081218\n",
      "[ 0.50859194  0.20638012  0.38558806]\n",
      "7  Fold error :  1139.91617559\n",
      "[ 0.5342602   0.1989915   0.36916207]\n",
      "8  Fold error :  1127.09394357\n",
      "[ 0.52243648  0.22353138  0.35560687]\n",
      "9  Fold error :  1131.20893884\n",
      "[ 0.49823     0.23103579  0.37279803]\n",
      "Average MAE:  1137.09811963\n"
     ]
    }
   ],
   "source": [
    "from sklearn.cross_validation import KFold\n",
    "tot = 0\n",
    "nfolds = 10\n",
    "kf = KFold(x_train.shape[0],n_folds=nfolds)\n",
    "for i, (train_index, test_index) in enumerate(kf):\n",
    "    train_x,val_x = x_train[train_index], x_train[test_index]\n",
    "    train_y,val_y = y[train_index], y[test_index]\n",
    "    clfLasso = Lasso(fit_intercept=False,positive=False)\n",
    "    clfLasso.fit(train_x,train_y)\n",
    "    temp = mean_absolute_error(val_y,clfLasso.predict(val_x))\n",
    "    print i,\" Fold error : \",temp\n",
    "    print clfLasso.coef_\n",
    "    tot += temp\n",
    "    \n",
    "tot /= nfolds * 1.0   \n",
    "print 'Average MAE: ',tot"
   ]
  },
  {
   "cell_type": "code",
   "execution_count": 12,
   "metadata": {
    "collapsed": false
   },
   "outputs": [
    {
     "name": "stderr",
     "output_type": "stream",
     "text": [
      "/home/him/anaconda2/envs/theano-gpu/lib/python2.7/site-packages/ipykernel/__main__.py:2: FutureWarning: sort(columns=....) is deprecated, use sort_values(by=.....)\n",
      "  from ipykernel import kernelapp as app\n",
      "/home/him/anaconda2/envs/theano-gpu/lib/python2.7/site-packages/ipykernel/__main__.py:4: FutureWarning: sort(columns=....) is deprecated, use sort_values(by=.....)\n"
     ]
    }
   ],
   "source": [
    "tt = pd.read_csv('keras-test-1111.7.csv')\n",
    "tt = tt.sort('id')\n",
    "tt1 = pd.read_csv('keras-test-single.csv')\n",
    "tt1 = tt1.sort('id')\n",
    "m1 = pd.read_csv('xgb-test-1124.75.csv')['loss'].as_matrix()\n",
    "m2 = pd.read_csv('xgb-test-1127.27.csv')['loss'].as_matrix()\n",
    "m3 = pd.read_csv('xgb-test-single.csv')['loss'].as_matrix()\n",
    "k1 = tt['loss'].as_matrix()\n",
    "k2 = tt1['loss'].as_matrix()\n",
    "x_test = np.vstack((m1,m2,k1)).T"
   ]
  },
  {
   "cell_type": "code",
   "execution_count": 39,
   "metadata": {
    "collapsed": true
   },
   "outputs": [],
   "source": [
    "pred = clfLasso.predict(x_test)"
   ]
  },
  {
   "cell_type": "code",
   "execution_count": 40,
   "metadata": {
    "collapsed": true
   },
   "outputs": [],
   "source": [
    "pred = clfLasso.predict(x_test)\n",
    "sub = pd.read_csv('xgb-test-1124.75.csv')\n",
    "sub['loss'] = pred\n",
    "sub.to_csv('Lasso-Stacking-4 way.csv',index=False)"
   ]
  },
  {
   "cell_type": "code",
   "execution_count": 13,
   "metadata": {
    "collapsed": false
   },
   "outputs": [],
   "source": [
    "import numpy as np\n",
    "np.random.seed(123)\n",
    "\n",
    "import pandas as pd\n",
    "import subprocess\n",
    "from datetime import datetime\n",
    "from scipy.sparse import csr_matrix, hstack\n",
    "from sklearn.metrics import mean_absolute_error\n",
    "from sklearn.preprocessing import StandardScaler\n",
    "from sklearn.cross_validation import KFold\n",
    "from keras.models import Sequential\n",
    "from keras.layers import Dense, Dropout, Activation\n",
    "from keras.layers.normalization import BatchNormalization\n",
    "from keras.layers.advanced_activations import PReLU\n",
    "from keras.callbacks import CSVLogger,EarlyStopping, ModelCheckpoint\n",
    "\n",
    "def nn_model():\n",
    "    model = Sequential()\n",
    "    \n",
    "    model.add(Dense(4, input_dim = 4))\n",
    "    model.add(PReLU())\n",
    "    model.add(BatchNormalization())\n",
    "        \n",
    "    model.add(Dense(4, init = 'he_normal'))\n",
    "    model.add(PReLU())\n",
    "    model.add(BatchNormalization())    \n",
    "    \n",
    "    model.add(Dense(4, init = 'he_normal'))\n",
    "    model.add(PReLU())\n",
    "    model.add(BatchNormalization())    \n",
    "    \n",
    "    model.add(Dense(1, init = 'he_normal'))\n",
    "    model.compile(loss = 'mae', optimizer = 'adam')\n",
    "    return(model)"
   ]
  },
  {
   "cell_type": "code",
   "execution_count": 15,
   "metadata": {
    "collapsed": false,
    "scrolled": false
   },
   "outputs": [
    {
     "name": "stdout",
     "output_type": "stream",
     "text": [
      "Epoch 1/10\n",
      "188318/188318 [==============================] - 10s - loss: 3028.1670    \n",
      "Epoch 2/10\n",
      "188318/188318 [==============================] - 10s - loss: 2986.8705    \n",
      "Epoch 3/10\n",
      "188318/188318 [==============================] - 10s - loss: 2918.5364    \n",
      "Epoch 4/10\n",
      "188318/188318 [==============================] - 10s - loss: 2828.3863    \n",
      "Epoch 5/10\n",
      "188318/188318 [==============================] - 11s - loss: 2718.5228    \n",
      "Epoch 6/10\n",
      "188318/188318 [==============================] - 10s - loss: 2590.1491    \n",
      "Epoch 7/10\n",
      "188318/188318 [==============================] - 9s - loss: 2445.1997     \n",
      "Epoch 8/10\n",
      "188318/188318 [==============================] - 7s - loss: 2286.5916     \n",
      "Epoch 9/10\n",
      "188318/188318 [==============================] - 7s - loss: 2117.8033     \n",
      "Epoch 10/10\n",
      "188318/188318 [==============================] - 8s - loss: 1942.8898     \n"
     ]
    },
    {
     "data": {
      "text/plain": [
       "<keras.callbacks.History at 0x7f9800d9a9d0>"
      ]
     },
     "execution_count": 15,
     "metadata": {},
     "output_type": "execute_result"
    }
   ],
   "source": [
    "model = nn_model()\n",
    "model.fit(x_train,y,nb_epoch=10,batch_size=128)"
   ]
  },
  {
   "cell_type": "code",
   "execution_count": null,
   "metadata": {
    "collapsed": true
   },
   "outputs": [],
   "source": []
  }
 ],
 "metadata": {
  "anaconda-cloud": {},
  "kernelspec": {
   "display_name": "Python [conda env:gpu-tensorflow]",
   "language": "python",
   "name": "conda-env-gpu-tensorflow-py"
  },
  "language_info": {
   "codemirror_mode": {
    "name": "ipython",
    "version": 2
   },
   "file_extension": ".py",
   "mimetype": "text/x-python",
   "name": "python",
   "nbconvert_exporter": "python",
   "pygments_lexer": "ipython2",
   "version": "2.7.12"
  }
 },
 "nbformat": 4,
 "nbformat_minor": 1
}
